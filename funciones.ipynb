{
 "cells": [
  {
   "cell_type": "markdown",
   "metadata": {},
   "source": [
    "def cantidad_filmaciones_mes( Mes) : Se ingresa un mes en idioma español. Debe devolver la cantidad de películas que fueron\n",
    "\n",
    "estrenadas en el mes consultado en la totalidad del dataset.\n",
    "\n",
    "                    Ejemplo de retorno: Xcantidad de películas fueron estrenadas en el mes deX"
   ]
  },
  {
   "cell_type": "code",
   "execution_count": null,
   "metadata": {},
   "outputs": [],
   "source": []
  },
  {
   "cell_type": "code",
   "execution_count": 2,
   "metadata": {},
   "outputs": [],
   "source": [
    "import pandas as pd\n",
    "\n",
    "df_movies= pd.read_csv(\"df_movies.csv\")"
   ]
  },
  {
   "cell_type": "code",
   "execution_count": 6,
   "metadata": {},
   "outputs": [],
   "source": [
    "def cantidad_filmaciones_mes(mes:str):\n",
    "    # Diccionario de meses en español\n",
    "    meses = {\n",
    "        1: 'Enero',\n",
    "        2: 'Febrero',\n",
    "        3: 'Marzo',\n",
    "        4: 'Abril',\n",
    "        5: 'Mayo',\n",
    "        6: 'Junio',\n",
    "        7: 'Julio',\n",
    "        8: 'Agosto',\n",
    "        9: 'Septiembre',\n",
    "        10: 'Octubre',\n",
    "        11: 'Noviembre',\n",
    "        12: 'Diciembre'\n",
    "    }    \n",
    "\n",
    "    df_movies['release_date'] = pd.to_datetime(df_movies['release_date'], errors='coerce')\n",
    "\n",
    "    # Extraer el mes numérico\n",
    "    df_movies['mes_num'] = df_movies['release_date'].dt.month\n",
    "\n",
    "    # Convertir el mes numérico a nombre de mes\n",
    "    df_movies['mes'] = df_movies['mes_num'].map(meses)\n",
    "\n",
    "    meses = df_movies[df_movies['mes'] == mes].shape[0]\n",
    "\n",
    "    return  f\"{meses} cantidad de películas fueron estrenadas en el mes de {mes}\"\n",
    "\n",
    "\n",
    "\n"
   ]
  },
  {
   "cell_type": "code",
   "execution_count": 42,
   "metadata": {},
   "outputs": [
    {
     "data": {
      "text/plain": [
       "'3553 cantidad de películas fueron estrenadas en el mes de Marzo'"
      ]
     },
     "execution_count": 42,
     "metadata": {},
     "output_type": "execute_result"
    }
   ],
   "source": [
    "cantidad_filmaciones_mes(\"Marzo\")"
   ]
  },
  {
   "cell_type": "markdown",
   "metadata": {},
   "source": [
    "def cantidad_filmaciones_dia( Dia ): Se ingresa un día en idioma Español. Debe devolver la cantidad de películas que fueron \n",
    "\n",
    "estrenadas en día consultado en la totalidad del dataset."
   ]
  },
  {
   "cell_type": "code",
   "execution_count": 116,
   "metadata": {},
   "outputs": [],
   "source": [
    "def cantidad_filmaciones_dia( Dia :str):\n",
    "\n",
    "    # Crear una columna adicional con el nombre del día de la semana en inglés\n",
    "    df_movies['day_of_week_en'] = df_movies['release_date'].dt.strftime('%A').str.lower()\n",
    "\n",
    "    dias = {\n",
    "        'monday': 'lunes',\n",
    "        'tuesday': 'martes',\n",
    "        'wednesday': 'miercoles',\n",
    "        'thursday': 'jueves',\n",
    "        'friday': 'viernes',\n",
    "        'saturday': 'sabado',\n",
    "        'sunday': 'domingo'\n",
    "    }\n",
    "\n",
    "    # Traducir los días de la semana al español usando el diccionario\n",
    "    df_movies['day_of_week_es'] = df_movies['day_of_week_en'].map(dias)\n",
    "\n",
    "    # Filtrar las películas que coinciden con el día consultado\n",
    "    count = df_movies[df_movies['day_of_week_es'] == Dia].shape[0]\n",
    "\n",
    "    return f\"{count} cantidad de películas fueron estrenadas en los días {Dia}\""
   ]
  },
  {
   "cell_type": "code",
   "execution_count": 115,
   "metadata": {},
   "outputs": [
    {
     "data": {
      "text/plain": [
       "'7035 cantidad de películas fueron estrenadas en los días miercoles'"
      ]
     },
     "execution_count": 115,
     "metadata": {},
     "output_type": "execute_result"
    }
   ],
   "source": [
    "cantidad_filmaciones_dia(\"miercoles\")"
   ]
  },
  {
   "cell_type": "markdown",
   "metadata": {},
   "source": [
    "def score_titulo( titulo_de_la_filmación ): Se ingresa el título de una filmación esperando como respuesta el título, el año\n",
    "\n",
    " de estreno y el score."
   ]
  },
  {
   "cell_type": "code",
   "execution_count": 70,
   "metadata": {},
   "outputs": [],
   "source": [
    "def score_titulo( titulo:str ):\n",
    "\n",
    "    # Buscar la película por el título\n",
    "    pelicula = df_movies[df_movies['title'].str.lower() == titulo.lower()]\n",
    "\n",
    "    # Extraer el título, el año y el score\n",
    "    titulo = pelicula['title'].values[0]\n",
    "    anio = pelicula['release_year'].values[0]\n",
    "    score = pelicula['vote_average'].values[0]\n",
    "\n",
    "    return f\"La película {titulo} fue estrenada en el año {anio} con un score/popularidad de {score}\""
   ]
  },
  {
   "cell_type": "code",
   "execution_count": 71,
   "metadata": {},
   "outputs": [
    {
     "data": {
      "text/plain": [
       "'La película Inception fue estrenada en el año 2010 con un score/popularidad de 8.1'"
      ]
     },
     "execution_count": 71,
     "metadata": {},
     "output_type": "execute_result"
    }
   ],
   "source": [
    "score_titulo(\"Inception\")"
   ]
  },
  {
   "cell_type": "markdown",
   "metadata": {},
   "source": [
    "def votos_titulo( titulo_de_la_filmación ): Se ingresa el título de una filmación esperando como respuesta el título, \n",
    "\n",
    "la cantidad de votos y el valor promedio de las votaciones. La misma variable deberá de contar con al menos 2000 \n",
    "\n",
    "valoraciones, caso contrario, debemos contar con un mensaje avisando que no cumple esta condición y que por ende, no se \n",
    "\n",
    "devuelve ningun valor."
   ]
  },
  {
   "cell_type": "code",
   "execution_count": 102,
   "metadata": {},
   "outputs": [],
   "source": [
    "pelicula = df_movies[df_movies['title'].str.lower() == \"Star Wars Collection\".lower()]\n"
   ]
  },
  {
   "cell_type": "code",
   "execution_count": 103,
   "metadata": {},
   "outputs": [
    {
     "data": {
      "text/html": [
       "<div>\n",
       "<style scoped>\n",
       "    .dataframe tbody tr th:only-of-type {\n",
       "        vertical-align: middle;\n",
       "    }\n",
       "\n",
       "    .dataframe tbody tr th {\n",
       "        vertical-align: top;\n",
       "    }\n",
       "\n",
       "    .dataframe thead th {\n",
       "        text-align: right;\n",
       "    }\n",
       "</style>\n",
       "<table border=\"1\" class=\"dataframe\">\n",
       "  <thead>\n",
       "    <tr style=\"text-align: right;\">\n",
       "      <th></th>\n",
       "      <th>Unnamed: 0</th>\n",
       "      <th>budget</th>\n",
       "      <th>genres</th>\n",
       "      <th>id</th>\n",
       "      <th>original_language</th>\n",
       "      <th>overview</th>\n",
       "      <th>popularity</th>\n",
       "      <th>production_countries</th>\n",
       "      <th>release_date</th>\n",
       "      <th>revenue</th>\n",
       "      <th>...</th>\n",
       "      <th>backdrop_path</th>\n",
       "      <th>name.1</th>\n",
       "      <th>id.2</th>\n",
       "      <th>release_year</th>\n",
       "      <th>retorno_de_inversion</th>\n",
       "      <th>mes_num</th>\n",
       "      <th>mes</th>\n",
       "      <th>day_of_week</th>\n",
       "      <th>day_of_week_en</th>\n",
       "      <th>day_of_week_es</th>\n",
       "    </tr>\n",
       "  </thead>\n",
       "  <tbody>\n",
       "  </tbody>\n",
       "</table>\n",
       "<p>0 rows × 29 columns</p>\n",
       "</div>"
      ],
      "text/plain": [
       "Empty DataFrame\n",
       "Columns: [Unnamed: 0, budget, genres, id, original_language, overview, popularity, production_countries, release_date, revenue, runtime, spoken_languages, status, tagline, title, vote_average, vote_count, id.1, name, backdrop_path, name.1, id.2, release_year, retorno_de_inversion, mes_num, mes, day_of_week, day_of_week_en, day_of_week_es]\n",
       "Index: []\n",
       "\n",
       "[0 rows x 29 columns]"
      ]
     },
     "execution_count": 103,
     "metadata": {},
     "output_type": "execute_result"
    }
   ],
   "source": [
    "pelicula"
   ]
  },
  {
   "cell_type": "code",
   "execution_count": 109,
   "metadata": {},
   "outputs": [],
   "source": [
    "def votos_titulo( titulo:str ):\n",
    "\n",
    "    # Buscar la película por el título\n",
    "    pelicula = df_movies[df_movies['title'].str.lower() == titulo.lower()]\n",
    "\n",
    "    # Contar la cantidad de votos\n",
    "    votos = pelicula[\"vote_count\"].values[0]\n",
    "    if votos >= 2000:\n",
    "\n",
    "        # Extraer el título, el año y el score\n",
    "        titulo= pelicula['title'].values[0]\n",
    "        cantidad_votos = pelicula[\"vote_count\"].values[0]\n",
    "        promedio_votos = pelicula['vote_average'].values[0]\n",
    "        año = pelicula[\"release_year\"].values[0]\n",
    "\n",
    "        return f\"La película {titulo} fue estrenada en el año {año}. La misma cuenta con un total de {cantidad_votos} valoraciones, con un promedio de {promedio_votos}\"\n",
    "    \n",
    "    else:\n",
    "        return f\"La película {titulo} no cumple con las condiciones de superar los 2000 votos\""
   ]
  },
  {
   "cell_type": "code",
   "execution_count": 110,
   "metadata": {},
   "outputs": [
    {
     "data": {
      "text/plain": [
       "'La película Cinderella no cumple con las condiciones de superar los 2000 votos'"
      ]
     },
     "execution_count": 110,
     "metadata": {},
     "output_type": "execute_result"
    }
   ],
   "source": [
    "votos_titulo(\"Cinderella\")"
   ]
  },
  {
   "cell_type": "code",
   "execution_count": null,
   "metadata": {},
   "outputs": [],
   "source": []
  },
  {
   "cell_type": "markdown",
   "metadata": {},
   "source": [
    "def get_actor( nombre_actor) : Se ingresa el nombre de un actor que se encuentra dentro de un dataset debiendo devolver el \n",
    "\n",
    "éxito del mismo medido a través del retorno. Además, la cantidad de películas que en las que ha participado y el promedio de \n",
    "\n",
    "retorno. La definición no deberá considerar directores.\n",
    "\n",
    "                Ejemplo de retorno: El actor Xha participado de Xcantidad de filmaciones, el mismo ha obtenido un retorno de Xcon un promedio de Xpor filmación"
   ]
  },
  {
   "cell_type": "code",
   "execution_count": 5,
   "metadata": {},
   "outputs": [
    {
     "data": {
      "text/plain": [
       "Index(['Unnamed: 0', 'budget', 'genres', 'id', 'original_language', 'overview',\n",
       "       'popularity', 'production_countries', 'release_date', 'revenue',\n",
       "       'runtime', 'spoken_languages', 'status', 'tagline', 'title',\n",
       "       'vote_average', 'vote_count', 'id.1', 'name', 'backdrop_path', 'name.1',\n",
       "       'id.2', 'release_year', 'retorno_de_inversion'],\n",
       "      dtype='object')"
      ]
     },
     "execution_count": 5,
     "metadata": {},
     "output_type": "execute_result"
    }
   ],
   "source": [
    "df_movies.columns"
   ]
  },
  {
   "cell_type": "code",
   "execution_count": null,
   "metadata": {},
   "outputs": [],
   "source": []
  }
 ],
 "metadata": {
  "kernelspec": {
   "display_name": "Python 3",
   "language": "python",
   "name": "python3"
  },
  "language_info": {
   "codemirror_mode": {
    "name": "ipython",
    "version": 3
   },
   "file_extension": ".py",
   "mimetype": "text/x-python",
   "name": "python",
   "nbconvert_exporter": "python",
   "pygments_lexer": "ipython3",
   "version": "3.9.13"
  }
 },
 "nbformat": 4,
 "nbformat_minor": 2
}
