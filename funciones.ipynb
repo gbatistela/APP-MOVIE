{
 "cells": [
  {
   "cell_type": "markdown",
   "metadata": {},
   "source": [
    "def cantidad_filmaciones_mes( Mes) : Se ingresa un mes en idioma español. Debe devolver la cantidad de películas que fueron\n",
    "\n",
    "estrenadas en el mes consultado en la totalidad del dataset.\n",
    "\n",
    "                    Ejemplo de retorno: Xcantidad de películas fueron estrenadas en el mes deX"
   ]
  },
  {
   "cell_type": "code",
   "execution_count": 111,
   "metadata": {},
   "outputs": [
    {
     "name": "stderr",
     "output_type": "stream",
     "text": [
      "C:\\Users\\Giuliano\\AppData\\Local\\Temp\\ipykernel_1092\\3825790732.py:4: DtypeWarning: Columns (3,5,7,9,13,14,17,18,19) have mixed types. Specify dtype option on import or set low_memory=False.\n",
      "  df_movies= pd.read_csv(\"df_movies.csv\")\n"
     ]
    }
   ],
   "source": [
    "import pandas as pd\n",
    "import numpy as np\n",
    "\n",
    "df_movies= pd.read_csv(\"df_movies.csv\")"
   ]
  },
  {
   "cell_type": "code",
   "execution_count": 6,
   "metadata": {},
   "outputs": [],
   "source": [
    "def cantidad_filmaciones_mes(mes:str):\n",
    "    # Diccionario de meses en español\n",
    "    meses = {\n",
    "        1: 'Enero',\n",
    "        2: 'Febrero',\n",
    "        3: 'Marzo',\n",
    "        4: 'Abril',\n",
    "        5: 'Mayo',\n",
    "        6: 'Junio',\n",
    "        7: 'Julio',\n",
    "        8: 'Agosto',\n",
    "        9: 'Septiembre',\n",
    "        10: 'Octubre',\n",
    "        11: 'Noviembre',\n",
    "        12: 'Diciembre'\n",
    "    }    \n",
    "\n",
    "    df_movies['release_date'] = pd.to_datetime(df_movies['release_date'], errors='coerce')\n",
    "\n",
    "    # Extraer el mes numérico\n",
    "    df_movies['mes_num'] = df_movies['release_date'].dt.month\n",
    "\n",
    "    # Convertir el mes numérico a nombre de mes\n",
    "    df_movies['mes'] = df_movies['mes_num'].map(meses)\n",
    "\n",
    "    meses = df_movies[df_movies['mes'] == mes].shape[0]\n",
    "\n",
    "    return  f\"{meses} cantidad de películas fueron estrenadas en el mes de {mes}\"\n",
    "\n",
    "\n",
    "\n"
   ]
  },
  {
   "cell_type": "code",
   "execution_count": 42,
   "metadata": {},
   "outputs": [
    {
     "data": {
      "text/plain": [
       "'3553 cantidad de películas fueron estrenadas en el mes de Marzo'"
      ]
     },
     "execution_count": 42,
     "metadata": {},
     "output_type": "execute_result"
    }
   ],
   "source": [
    "cantidad_filmaciones_mes(\"Marzo\")"
   ]
  },
  {
   "cell_type": "markdown",
   "metadata": {},
   "source": [
    "def cantidad_filmaciones_dia( Dia ): Se ingresa un día en idioma Español. Debe devolver la cantidad de películas que fueron \n",
    "\n",
    "estrenadas en día consultado en la totalidad del dataset."
   ]
  },
  {
   "cell_type": "code",
   "execution_count": 116,
   "metadata": {},
   "outputs": [],
   "source": [
    "def cantidad_filmaciones_dia( Dia :str):\n",
    "\n",
    "    # Crear una columna adicional con el nombre del día de la semana en inglés\n",
    "    df_movies['day_of_week_en'] = df_movies['release_date'].dt.strftime('%A').str.lower()\n",
    "\n",
    "    dias = {\n",
    "        'monday': 'lunes',\n",
    "        'tuesday': 'martes',\n",
    "        'wednesday': 'miercoles',\n",
    "        'thursday': 'jueves',\n",
    "        'friday': 'viernes',\n",
    "        'saturday': 'sabado',\n",
    "        'sunday': 'domingo'\n",
    "    }\n",
    "\n",
    "    # Traducir los días de la semana al español usando el diccionario\n",
    "    df_movies['day_of_week_es'] = df_movies['day_of_week_en'].map(dias)\n",
    "\n",
    "    # Filtrar las películas que coinciden con el día consultado\n",
    "    count = df_movies[df_movies['day_of_week_es'] == Dia].shape[0]\n",
    "\n",
    "    return f\"{count} cantidad de películas fueron estrenadas en los días {Dia}\""
   ]
  },
  {
   "cell_type": "code",
   "execution_count": 115,
   "metadata": {},
   "outputs": [
    {
     "data": {
      "text/plain": [
       "'7035 cantidad de películas fueron estrenadas en los días miercoles'"
      ]
     },
     "execution_count": 115,
     "metadata": {},
     "output_type": "execute_result"
    }
   ],
   "source": [
    "cantidad_filmaciones_dia(\"miercoles\")"
   ]
  },
  {
   "cell_type": "markdown",
   "metadata": {},
   "source": [
    "def score_titulo( titulo_de_la_filmación ): Se ingresa el título de una filmación esperando como respuesta el título, el año\n",
    "\n",
    " de estreno y el score."
   ]
  },
  {
   "cell_type": "code",
   "execution_count": 70,
   "metadata": {},
   "outputs": [],
   "source": [
    "def score_titulo( titulo:str ):\n",
    "\n",
    "    # Buscar la película por el título\n",
    "    pelicula = df_movies[df_movies['title'].str.lower() == titulo.lower()]\n",
    "\n",
    "    # Extraer el título, el año y el score\n",
    "    titulo = pelicula['title'].values[0]\n",
    "    anio = pelicula['release_year'].values[0]\n",
    "    score = pelicula['vote_average'].values[0]\n",
    "\n",
    "    return f\"La película {titulo} fue estrenada en el año {anio} con un score/popularidad de {score}\""
   ]
  },
  {
   "cell_type": "code",
   "execution_count": 71,
   "metadata": {},
   "outputs": [
    {
     "data": {
      "text/plain": [
       "'La película Inception fue estrenada en el año 2010 con un score/popularidad de 8.1'"
      ]
     },
     "execution_count": 71,
     "metadata": {},
     "output_type": "execute_result"
    }
   ],
   "source": [
    "score_titulo(\"Inception\")"
   ]
  },
  {
   "cell_type": "markdown",
   "metadata": {},
   "source": [
    "def votos_titulo( titulo_de_la_filmación ): Se ingresa el título de una filmación esperando como respuesta el título, \n",
    "\n",
    "la cantidad de votos y el valor promedio de las votaciones. La misma variable deberá de contar con al menos 2000 \n",
    "\n",
    "valoraciones, caso contrario, debemos contar con un mensaje avisando que no cumple esta condición y que por ende, no se \n",
    "\n",
    "devuelve ningun valor."
   ]
  },
  {
   "cell_type": "code",
   "execution_count": 102,
   "metadata": {},
   "outputs": [],
   "source": [
    "pelicula = df_movies[df_movies['title'].str.lower() == \"Star Wars Collection\".lower()]\n"
   ]
  },
  {
   "cell_type": "code",
   "execution_count": 109,
   "metadata": {},
   "outputs": [],
   "source": [
    "def votos_titulo( titulo:str ):\n",
    "\n",
    "    # Buscar la película por el título\n",
    "    pelicula = df_movies[df_movies['title'].str.lower() == titulo.lower()]\n",
    "\n",
    "    # Contar la cantidad de votos\n",
    "    votos = pelicula[\"vote_count\"].values[0]\n",
    "    if votos >= 2000:\n",
    "\n",
    "        # Extraer el título, el año y el score\n",
    "        titulo= pelicula['title'].values[0]\n",
    "        cantidad_votos = pelicula[\"vote_count\"].values[0]\n",
    "        promedio_votos = pelicula['vote_average'].values[0]\n",
    "        año = pelicula[\"release_year\"].values[0]\n",
    "\n",
    "        return f\"La película {titulo} fue estrenada en el año {año}. La misma cuenta con un total de {cantidad_votos} valoraciones, con un promedio de {promedio_votos}\"\n",
    "    \n",
    "    else:\n",
    "        return f\"La película {titulo} no cumple con las condiciones de superar los 2000 votos\""
   ]
  },
  {
   "cell_type": "code",
   "execution_count": 110,
   "metadata": {},
   "outputs": [
    {
     "data": {
      "text/plain": [
       "'La película Cinderella no cumple con las condiciones de superar los 2000 votos'"
      ]
     },
     "execution_count": 110,
     "metadata": {},
     "output_type": "execute_result"
    }
   ],
   "source": [
    "votos_titulo(\"Cinderella\")"
   ]
  },
  {
   "cell_type": "markdown",
   "metadata": {},
   "source": [
    "def get_actor( nombre_actor) : Se ingresa el nombre de un actor que se encuentra dentro de un dataset debiendo devolver el \n",
    "\n",
    "éxito del mismo medido a través del retorno. Además, la cantidad de películas que en las que ha participado y el promedio de \n",
    "\n",
    "retorno. La definición no deberá considerar directores.\n",
    "\n",
    "                Ejemplo de retorno: El actor Xha participado de Xcantidad de filmaciones, el mismo ha obtenido un retorno de Xcon un promedio de Xpor filmación"
   ]
  },
  {
   "cell_type": "code",
   "execution_count": 23,
   "metadata": {},
   "outputs": [],
   "source": [
    "df_actor = df_movies[df_movies['name.3'] == \"Tom Hanks\"]"
   ]
  },
  {
   "cell_type": "code",
   "execution_count": 26,
   "metadata": {},
   "outputs": [
    {
     "data": {
      "text/plain": [
       "72"
      ]
     },
     "execution_count": 26,
     "metadata": {},
     "output_type": "execute_result"
    }
   ],
   "source": [
    "# Contar el número de películas en las que ha participado\n",
    "cantidad_peliculas = df_actor.shape[0]\n",
    "cantidad_peliculas"
   ]
  },
  {
   "cell_type": "code",
   "execution_count": 28,
   "metadata": {},
   "outputs": [],
   "source": [
    "# Filtrar para obtener solo las películas con retorno de inversión\n",
    "df_actor_valid = df_actor[df_actor['retorno_de_inversion'].notna()]\n"
   ]
  },
  {
   "cell_type": "code",
   "execution_count": null,
   "metadata": {},
   "outputs": [],
   "source": [
    "df_movies[df_movies['name.3'] == \"Tom Hanks\"]"
   ]
  },
  {
   "cell_type": "code",
   "execution_count": 36,
   "metadata": {},
   "outputs": [
    {
     "data": {
      "text/plain": [
       "np.float64(inf)"
      ]
     },
     "execution_count": 36,
     "metadata": {},
     "output_type": "execute_result"
    }
   ],
   "source": [
    "# Calcular el promedio de retorno de inversión\n",
    "promedio_retorno = df_actor_valid['retorno_de_inversion'].mean() if cantidad_peliculas > 0 else 0\n",
    "promedio_retorno"
   ]
  },
  {
   "cell_type": "code",
   "execution_count": 21,
   "metadata": {},
   "outputs": [
    {
     "data": {
      "text/plain": [
       "0                 Tom Hanks\n",
       "1                 Tim Allen\n",
       "2               Don Rickles\n",
       "3                Jim Varney\n",
       "4             Wallace Shawn\n",
       "                ...        \n",
       "565326    Nathalie Lissenko\n",
       "565327         Pavel Pavlov\n",
       "565328    Aleksandr Chabrov\n",
       "565329          Vera Orlova\n",
       "565330                  NaN\n",
       "Name: name.3, Length: 565331, dtype: object"
      ]
     },
     "execution_count": 21,
     "metadata": {},
     "output_type": "execute_result"
    }
   ],
   "source": [
    "df_movies[\"name.3\"]"
   ]
  },
  {
   "cell_type": "code",
   "execution_count": 95,
   "metadata": {},
   "outputs": [],
   "source": [
    "def get_actor(nombre_actor):\n",
    "    # Filtrar el DataFrame para obtener solo las filas donde el actor está en el cast\n",
    "    df_actor = df_movies[df_movies['name.3'] == nombre_actor]\n",
    "    \n",
    "    # Contar el número de películas en las que ha participado\n",
    "    cantidad_peliculas = df_actor.shape[0]\n",
    "    \n",
    "    # Filtrar para obtener solo las películas con retorno de inversión válido\n",
    "    df_actor_valid = df_actor[\n",
    "        (df_actor['retorno_de_inversion'] != np.inf) &  # Excluir infinito\n",
    "        (df_actor['retorno_de_inversion'] != -np.inf) &  # Excluir -infinito\n",
    "        (df_actor['retorno_de_inversion'].notna()) &  # Excluir NaN\n",
    "        (df_actor['retorno_de_inversion'] >= 0)  # Asegurarse de que el valor sea positivo\n",
    "    ]\n",
    "    \n",
    "    # Calcular el promedio de retorno de inversión\n",
    "    promedio_retorno = df_actor_valid['retorno_de_inversion'].mean() if cantidad_peliculas > 0 else 0\n",
    "    retorno_inversion =df_actor[\"retorno_de_inversion\"].sum() \n",
    "\n",
    "    \n",
    "    return f\"El actor {nombre_actor} participado de {cantidad_peliculas} de filmaciones, el mismo ha obtenido un retorno de {retorno_inversion} un promedio de {promedio_retorno:.2f} filmación\""
   ]
  },
  {
   "cell_type": "code",
   "execution_count": 83,
   "metadata": {},
   "outputs": [
    {
     "data": {
      "text/plain": [
       "'El actor Tom Hanks participado de 72 de filmaciones, el mismo ha obtenido un retorno de 12.4518011 un promedio de 1.25 filmación'"
      ]
     },
     "execution_count": 83,
     "metadata": {},
     "output_type": "execute_result"
    }
   ],
   "source": [
    "get_actor(\"Tom Hanks\")\n",
    "\n",
    "\n",
    "\n",
    "\n",
    "\n"
   ]
  },
  {
   "cell_type": "code",
   "execution_count": 112,
   "metadata": {},
   "outputs": [
    {
     "data": {
      "text/plain": [
       "Index(['Unnamed: 0.1', 'Unnamed: 0', 'budget', 'genres', 'movie_id',\n",
       "       'original_language', 'popularity', 'release_date', 'revenue', 'title',\n",
       "       'vote_average', 'vote_count', 'franquicia_id', 'name', 'name.1',\n",
       "       'release_year', 'retorno_de_inversion', 'credit_id', 'name.2',\n",
       "       'profile_path', 'cast_id', 'character', 'credit_id.1', 'actor_id',\n",
       "       'name.3', 'order', 'profile_path.1'],\n",
       "      dtype='object')"
      ]
     },
     "execution_count": 112,
     "metadata": {},
     "output_type": "execute_result"
    }
   ],
   "source": [
    "df_movies.columns"
   ]
  },
  {
   "cell_type": "code",
   "execution_count": 115,
   "metadata": {},
   "outputs": [],
   "source": [
    "df_director= pd.DataFrame(df_movies[[\"name.2\",\"retorno_de_inversion\",\"release_year\",\"title\",\"revenue\",\"budget\"]])"
   ]
  },
  {
   "cell_type": "code",
   "execution_count": 117,
   "metadata": {},
   "outputs": [],
   "source": [
    "df_director = df_director.dropna(how='all')\n"
   ]
  },
  {
   "cell_type": "code",
   "execution_count": 134,
   "metadata": {},
   "outputs": [],
   "source": [
    "def get_director(nombre_director):\n",
    "    # Filtrar el dataframe por el nombre del director\n",
    "    director_df = df_movies[df_movies['name.2'] == nombre_director]\n",
    "    \n",
    "    # Filtrar para obtener solo las películas con retorno de inversión válido\n",
    "    director_df = director_df[\n",
    "        (director_df['retorno_de_inversion'] != np.inf) &  # Excluir infinito\n",
    "        (director_df['retorno_de_inversion'] != -np.inf) &  # Excluir -infinito\n",
    "        (director_df['retorno_de_inversion'].notna()) &  # Excluir NaN\n",
    "        (director_df['retorno_de_inversion'] >= 0)  # Asegurarse de que el valor sea positivo\n",
    "    ]\n",
    "\n",
    "    # Calcular el retorno total (éxito)\n",
    "    retorno_total = director_df['retorno_de_inversion'].sum()\n",
    "    \n",
    "    # Crear una lista de diccionarios con la información de cada película\n",
    "    peliculas_info = []\n",
    "    for _, row in director_df.iterrows():\n",
    "        peliculas_info.append({\n",
    "            'titulo': row['title'],\n",
    "            'fecha_lanzamiento': row['release_year'],\n",
    "            'retorno_individual': row['retorno_de_inversion'],\n",
    "            'costo': row['budget'],\n",
    "            'ganancia': row['revenue']\n",
    "        })\n",
    "    \n",
    "    return {\n",
    "        'nombre_director': nombre_director,\n",
    "        'retorno_total': retorno_total,\n",
    "        'peliculas': peliculas_info\n",
    "    }"
   ]
  },
  {
   "cell_type": "code",
   "execution_count": 135,
   "metadata": {},
   "outputs": [
    {
     "data": {
      "text/plain": [
       "{'nombre_director': 'John Lasseter',\n",
       " 'retorno_total': np.float64(19.531318866666666),\n",
       " 'peliculas': [{'titulo': 'Toy Story',\n",
       "   'fecha_lanzamiento': 1995.0,\n",
       "   'retorno_individual': 12.4518011,\n",
       "   'costo': 30000000.0,\n",
       "   'ganancia': 373554033.0},\n",
       "  {'titulo': 'Ace Ventura: When Nature Calls',\n",
       "   'fecha_lanzamiento': 1995.0,\n",
       "   'retorno_individual': 7.079517766666667,\n",
       "   'costo': 30000000.0,\n",
       "   'ganancia': 212385533.0},\n",
       "  {'titulo': 'Waterloo Bridge',\n",
       "   'fecha_lanzamiento': 1940.0,\n",
       "   'retorno_individual': 0.0,\n",
       "   'costo': 0.0,\n",
       "   'ganancia': 0.0},\n",
       "  {'titulo': 'Francis Bacon',\n",
       "   'fecha_lanzamiento': 1988.0,\n",
       "   'retorno_individual': 0.0,\n",
       "   'costo': 0.0,\n",
       "   'ganancia': 0.0},\n",
       "  {'titulo': 'Toy Reanimator',\n",
       "   'fecha_lanzamiento': 2002.0,\n",
       "   'retorno_individual': 0.0,\n",
       "   'costo': 0.0,\n",
       "   'ganancia': 0.0}]}"
      ]
     },
     "execution_count": 135,
     "metadata": {},
     "output_type": "execute_result"
    }
   ],
   "source": [
    "get_director(\"John Lasseter\")"
   ]
  }
 ],
 "metadata": {
  "kernelspec": {
   "display_name": "Python 3",
   "language": "python",
   "name": "python3"
  },
  "language_info": {
   "codemirror_mode": {
    "name": "ipython",
    "version": 3
   },
   "file_extension": ".py",
   "mimetype": "text/x-python",
   "name": "python",
   "nbconvert_exporter": "python",
   "pygments_lexer": "ipython3",
   "version": "3.12.5"
  }
 },
 "nbformat": 4,
 "nbformat_minor": 2
}
