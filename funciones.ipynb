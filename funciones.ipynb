{
 "cells": [
  {
   "cell_type": "code",
   "execution_count": 141,
   "metadata": {},
   "outputs": [],
   "source": [
    "import pandas as pd\n",
    "import numpy as np\n",
    "\n",
    "df_movies= pd.read_csv(\"df_movies.csv\",low_memory= False)"
   ]
  },
  {
   "cell_type": "markdown",
   "metadata": {},
   "source": [
    "def cantidad_filmaciones_mes( Mes) : Se ingresa un mes en idioma español. Debe devolver la cantidad de películas que fueron\n",
    "\n",
    "estrenadas en el mes consultado en la totalidad del dataset.\n",
    "\n",
    "                    Ejemplo de retorno: Xcantidad de películas fueron estrenadas en el mes deX"
   ]
  },
  {
   "cell_type": "code",
   "execution_count": 142,
   "metadata": {},
   "outputs": [],
   "source": [
    "def cantidad_filmaciones_mes(mes:str):\n",
    "    # Diccionario de meses en español\n",
    "    meses = {\n",
    "        1: 'Enero',\n",
    "        2: 'Febrero',\n",
    "        3: 'Marzo',\n",
    "        4: 'Abril',\n",
    "        5: 'Mayo',\n",
    "        6: 'Junio',\n",
    "        7: 'Julio',\n",
    "        8: 'Agosto',\n",
    "        9: 'Septiembre',\n",
    "        10: 'Octubre',\n",
    "        11: 'Noviembre',\n",
    "        12: 'Diciembre'\n",
    "    }    \n",
    "\n",
    "    df_movies['release_date'] = pd.to_datetime(df_movies['release_date'], errors='coerce')\n",
    "\n",
    "    # Extraer el mes numérico\n",
    "    df_movies['mes_num'] = df_movies['release_date'].dt.month\n",
    "\n",
    "    # Convertir el mes numérico a nombre de mes\n",
    "    df_movies['mes'] = df_movies['mes_num'].map(meses)\n",
    "\n",
    "    meses = df_movies[df_movies['mes'] == mes].shape[0]\n",
    "\n",
    "    return f\"{meses} cantidad de películas fueron estrenadas en el mes de {mes}\""
   ]
  },
  {
   "cell_type": "code",
   "execution_count": 133,
   "metadata": {},
   "outputs": [
    {
     "data": {
      "text/plain": [
       "title\n",
       "Blackout               13\n",
       "Cinderella             11\n",
       "Alice in Wonderland     9\n",
       "Hamlet                  9\n",
       "The Promise             8\n",
       "                       ..\n",
       "Svengali                1\n",
       "Lampaansyöjät           1\n",
       "Animal Kingdom          1\n",
       "The Exploding Girl      1\n",
       "Queerama                1\n",
       "Name: count, Length: 42195, dtype: int64"
      ]
     },
     "execution_count": 133,
     "metadata": {},
     "output_type": "execute_result"
    }
   ],
   "source": [
    "df_movies['title'].value_counts()"
   ]
  },
  {
   "cell_type": "code",
   "execution_count": 132,
   "metadata": {},
   "outputs": [],
   "source": [
    "def score_titulo( titulo:str ):\n",
    "\n",
    "    # Buscar la película por el título\n",
    "    pelicula = df_movies[df_movies['title'].str.lower() == titulo.lower()]\n",
    "\n",
    "    # Extraer el título, el año y el score\n",
    "    titulo = pelicula['title'].values[0]\n",
    "    anio = pelicula['release_year'].values[0]\n",
    "    score = pelicula['vote_average'].values[0]\n",
    "\n",
    "    return f\"La película {titulo} fue estrenada en el año {anio} con un score/popularidad de {score}\""
   ]
  },
  {
   "cell_type": "code",
   "execution_count": 147,
   "metadata": {},
   "outputs": [
    {
     "data": {
      "text/plain": [
       "'La película Blackout fue estrenada en el año 2008.0 con un score/popularidad de 6.7'"
      ]
     },
     "execution_count": 147,
     "metadata": {},
     "output_type": "execute_result"
    }
   ],
   "source": [
    "score_titulo(\"Blackout\")"
   ]
  },
  {
   "cell_type": "code",
   "execution_count": 151,
   "metadata": {},
   "outputs": [],
   "source": [
    "def get_actor(nombre_actor):\n",
    "    # Filtrar el DataFrame para obtener solo las filas donde el actor está en el cast\n",
    "    df_actor = df_movies[df_movies['actor'] == nombre_actor]\n",
    "    \n",
    "    # Contar el número de películas en las que ha participado\n",
    "    cantidad_peliculas = df_actor.shape[0]\n",
    "    \n",
    "    # Filtrar para obtener solo las películas con retorno de inversión válido\n",
    "    df_actor = df_actor[\n",
    "        (df_actor['retorno_de_inversion'] != np.inf) &  # Excluir infinito\n",
    "        (df_actor['retorno_de_inversion'] != -np.inf) &  # Excluir -infinito\n",
    "        (df_actor['retorno_de_inversion'].notna()) &  # Excluir NaN\n",
    "        (df_actor['retorno_de_inversion'] >= 0)  # Asegurarse de que el valor sea positivo\n",
    "    ]\n",
    "    \n",
    "    # Calcular el promedio de retorno de inversión\n",
    "    promedio_retorno = df_actor['retorno_de_inversion'].mean() if cantidad_peliculas > 0 else 0\n",
    "    retorno_inversion =df_actor[\"retorno_de_inversion\"].sum() \n",
    "\n",
    "    \n",
    "    return f\"El actor {nombre_actor} participado de {cantidad_peliculas} de filmaciones, el mismo ha obtenido un retorno de {retorno_inversion} un promedio de {promedio_retorno:.2f} filmación\""
   ]
  },
  {
   "cell_type": "code",
   "execution_count": 152,
   "metadata": {},
   "outputs": [
    {
     "data": {
      "text/plain": [
       "'El actor Tom Hanks participado de 72 de filmaciones, el mismo ha obtenido un retorno de 35.926088566666664 un promedio de 2.99 filmación'"
      ]
     },
     "execution_count": 152,
     "metadata": {},
     "output_type": "execute_result"
    }
   ],
   "source": [
    "get_actor(\"Tom Hanks\")"
   ]
  },
  {
   "cell_type": "code",
   "execution_count": 154,
   "metadata": {},
   "outputs": [
    {
     "data": {
      "text/plain": [
       "0          John Lasseter\n",
       "1            Joss Whedon\n",
       "2         Andrew Stanton\n",
       "3             Joel Cohen\n",
       "4           Alec Sokolow\n",
       "               ...      \n",
       "565326               NaN\n",
       "565327               NaN\n",
       "565328               NaN\n",
       "565329               NaN\n",
       "565330               NaN\n",
       "Name: director, Length: 565331, dtype: object"
      ]
     },
     "execution_count": 154,
     "metadata": {},
     "output_type": "execute_result"
    }
   ],
   "source": [
    "df_movies[\"director\"]"
   ]
  },
  {
   "cell_type": "code",
   "execution_count": 155,
   "metadata": {},
   "outputs": [],
   "source": [
    "def get_director(nombre_director):\n",
    "    \n",
    "    # Filtrar el dataframe por el nombre del director\n",
    "    df_director= pd.DataFrame(df_movies[[\"director\",\"retorno_de_inversion\",\"release_year\",\"title\",\"revenue\",\"budget\"]])\n",
    "\n",
    "    director_df = df_movies[df_movies['director'] == nombre_director]\n",
    "    \n",
    "    # Filtrar para obtener solo las películas con retorno de inversión válido\n",
    "    director_df = director_df[\n",
    "        (director_df['retorno_de_inversion'] != np.inf) &  # Excluir infinito\n",
    "        (director_df['retorno_de_inversion'] != -np.inf) &  # Excluir -infinito\n",
    "        (director_df['retorno_de_inversion'].notna()) &  # Excluir NaN\n",
    "        (director_df['retorno_de_inversion'] >= 0)  # Asegurarse de que el valor sea positivo\n",
    "    ]\n",
    "\n",
    "    # Calcular el retorno total (éxito)\n",
    "    retorno_total = director_df['retorno_de_inversion'].sum()\n",
    "    \n",
    "    # Crear una lista de diccionarios con la información de cada película\n",
    "    peliculas_info = []\n",
    "    for _, row in director_df.iterrows():\n",
    "        peliculas_info.append({\n",
    "            'titulo': row['title'],\n",
    "            'fecha_lanzamiento': row['release_year'],\n",
    "            'retorno_individual': row['retorno_de_inversion'],\n",
    "            'costo': row['budget'],\n",
    "            'ganancia': row['revenue']\n",
    "        })\n",
    "    \n",
    "    return {\n",
    "        'nombre_director': nombre_director,\n",
    "        'retorno_total': retorno_total,\n",
    "        'peliculas': peliculas_info\n",
    "    }"
   ]
  },
  {
   "cell_type": "code",
   "execution_count": 156,
   "metadata": {},
   "outputs": [
    {
     "data": {
      "text/plain": [
       "{'nombre_director': 'John Lasseter',\n",
       " 'retorno_total': np.float64(19.531318866666666),\n",
       " 'peliculas': [{'titulo': 'Toy Story',\n",
       "   'fecha_lanzamiento': 1995.0,\n",
       "   'retorno_individual': 12.4518011,\n",
       "   'costo': 30000000.0,\n",
       "   'ganancia': 373554033.0},\n",
       "  {'titulo': 'Ace Ventura: When Nature Calls',\n",
       "   'fecha_lanzamiento': 1995.0,\n",
       "   'retorno_individual': 7.079517766666667,\n",
       "   'costo': 30000000.0,\n",
       "   'ganancia': 212385533.0},\n",
       "  {'titulo': 'Sexmission',\n",
       "   'fecha_lanzamiento': 1984.0,\n",
       "   'retorno_individual': 0.0,\n",
       "   'costo': 5985.0,\n",
       "   'ganancia': 0.0},\n",
       "  {'titulo': 'A Spring for the Thirsty',\n",
       "   'fecha_lanzamiento': 1965.0,\n",
       "   'retorno_individual': 0.0,\n",
       "   'costo': 0.0,\n",
       "   'ganancia': 0.0},\n",
       "  {'titulo': 'Room',\n",
       "   'fecha_lanzamiento': 2005.0,\n",
       "   'retorno_individual': 0.0,\n",
       "   'costo': 0.0,\n",
       "   'ganancia': 0.0}]}"
      ]
     },
     "execution_count": 156,
     "metadata": {},
     "output_type": "execute_result"
    }
   ],
   "source": [
    "get_director(\"John Lasseter\")"
   ]
  },
  {
   "cell_type": "markdown",
   "metadata": {},
   "source": [
    "def recomendacion( titulo ): Se ingresa el nombre de una película y te recomienda las similares en una lista de 5 valores."
   ]
  },
  {
   "cell_type": "code",
   "execution_count": 3,
   "metadata": {},
   "outputs": [],
   "source": [
    "import pandas as pd\n",
    "from sklearn.metrics.pairwise import cosine_similarity\n",
    "from sklearn.preprocessing import StandardScaler\n",
    "from scipy.sparse import csr_matrix\n",
    "from sklearn.decomposition import PCA"
   ]
  },
  {
   "cell_type": "code",
   "execution_count": 95,
   "metadata": {},
   "outputs": [],
   "source": [
    "df_recomendacion = pd.read_csv(\"df_recomendacion.csv\",low_memory=False)"
   ]
  },
  {
   "cell_type": "code",
   "execution_count": 96,
   "metadata": {},
   "outputs": [],
   "source": [
    "# Definir las columnas que deseas eliminar\n",
    "columns_to_drop = ['Unnamed: 0.2', 'Unnamed: 0.1', 'Unnamed: 0', 'genres', \n",
    "                   'original_language', 'release_date', 'franquicia_id', 'name', 'name.1'\n",
    "                   , 'retorno_de_inversion', 'credit_id', 'name.2', 'profile_path', \n",
    "                   'cast_id', 'character', 'credit_id.1', 'actor_id', 'name.3', 'order', \n",
    "                   'profile_path.1', 'genres_id']\n",
    "\n",
    "# Verificar cuáles de esas columnas realmente existen en el dataframe\n",
    "columns_present = [col for col in columns_to_drop if col in df_recomendacion.columns]\n",
    "\n",
    "\n",
    "# Eliminar solo las columnas que existen\n",
    "df_recomendacion = df_recomendacion.drop(columns=columns_present)"
   ]
  },
  {
   "cell_type": "code",
   "execution_count": 97,
   "metadata": {},
   "outputs": [
    {
     "data": {
      "text/plain": [
       "Index(['budget', 'movie_id', 'popularity', 'revenue', 'title', 'vote_average',\n",
       "       'vote_count', 'release_year', 'Genero'],\n",
       "      dtype='object')"
      ]
     },
     "execution_count": 97,
     "metadata": {},
     "output_type": "execute_result"
    }
   ],
   "source": [
    "df_recomendacion.columns"
   ]
  },
  {
   "cell_type": "code",
   "execution_count": 98,
   "metadata": {},
   "outputs": [],
   "source": [
    "df_recomendacion = df_recomendacion.dropna(subset=['budget', 'popularity', 'release_year','revenue', 'title', 'vote_average',\n",
    "       'vote_count', 'Genero',\"movie_id\"])"
   ]
  },
  {
   "cell_type": "code",
   "execution_count": 124,
   "metadata": {},
   "outputs": [],
   "source": [
    "df_recomendacion = df_recomendacion[df_recomendacion['release_year'] >= 2017]  # Por ejemplo, filtrar por años recientes\n"
   ]
  },
  {
   "cell_type": "code",
   "execution_count": 125,
   "metadata": {},
   "outputs": [
    {
     "data": {
      "text/plain": [
       "release_year\n",
       "2017.0    520\n",
       "2018.0      5\n",
       "2020.0      1\n",
       "Name: count, dtype: int64"
      ]
     },
     "execution_count": 125,
     "metadata": {},
     "output_type": "execute_result"
    }
   ],
   "source": [
    "df_recomendacion['release_year'].value_counts()"
   ]
  },
  {
   "cell_type": "code",
   "execution_count": 169,
   "metadata": {},
   "outputs": [],
   "source": [
    "    from sklearn.metrics.pairwise import cosine_similarity\n",
    "\n",
    "    df_movies = df_movies[df_movies['release_year'] >= 2017]  # Por ejemplo, filtrar por años recientes\n"
   ]
  },
  {
   "cell_type": "code",
   "execution_count": 170,
   "metadata": {},
   "outputs": [],
   "source": [
    "    # Crear una matriz de usuario-item\n",
    "    user_item_matrix = pd.pivot_table(df_movies, values='vote_average', index='movie_id', columns='title', fill_value=0)\n"
   ]
  },
  {
   "cell_type": "code",
   "execution_count": 171,
   "metadata": {},
   "outputs": [],
   "source": [
    "    # Calcular la similitud de coseno entre peliculas\n",
    "    peliculas_similares = cosine_similarity(user_item_matrix.T)\n"
   ]
  },
  {
   "cell_type": "code",
   "execution_count": 173,
   "metadata": {},
   "outputs": [],
   "source": [
    "    # Encontrar el índice del juego en la matriz\n",
    "    peliculas_index = user_item_matrix.columns.get_loc(\"Avatar 2\")"
   ]
  },
  {
   "cell_type": "code",
   "execution_count": 174,
   "metadata": {},
   "outputs": [],
   "source": [
    " # Calcular la similitud de coseno entre el juego deseado y otros juegos\n",
    "peliculas_similares = peliculas_similares[peliculas_index] "
   ]
  },
  {
   "cell_type": "code",
   "execution_count": 184,
   "metadata": {},
   "outputs": [
    {
     "data": {
      "text/html": [
       "<div>\n",
       "<style scoped>\n",
       "    .dataframe tbody tr th:only-of-type {\n",
       "        vertical-align: middle;\n",
       "    }\n",
       "\n",
       "    .dataframe tbody tr th {\n",
       "        vertical-align: top;\n",
       "    }\n",
       "\n",
       "    .dataframe thead th {\n",
       "        text-align: right;\n",
       "    }\n",
       "</style>\n",
       "<table border=\"1\" class=\"dataframe\">\n",
       "  <thead>\n",
       "    <tr style=\"text-align: right;\">\n",
       "      <th></th>\n",
       "      <th>Peliculas</th>\n",
       "      <th>Similarity</th>\n",
       "    </tr>\n",
       "  </thead>\n",
       "  <tbody>\n",
       "    <tr>\n",
       "      <th>0</th>\n",
       "      <td>1 Mile to You</td>\n",
       "      <td>0.0</td>\n",
       "    </tr>\n",
       "    <tr>\n",
       "      <th>353</th>\n",
       "      <td>Savageland</td>\n",
       "      <td>0.0</td>\n",
       "    </tr>\n",
       "    <tr>\n",
       "      <th>367</th>\n",
       "      <td>Sleepless</td>\n",
       "      <td>0.0</td>\n",
       "    </tr>\n",
       "    <tr>\n",
       "      <th>366</th>\n",
       "      <td>Skins</td>\n",
       "      <td>0.0</td>\n",
       "    </tr>\n",
       "    <tr>\n",
       "      <th>365</th>\n",
       "      <td>Site Unseen: An Emma Fielding Mystery</td>\n",
       "      <td>0.0</td>\n",
       "    </tr>\n",
       "  </tbody>\n",
       "</table>\n",
       "</div>"
      ],
      "text/plain": [
       "                                 Peliculas  Similarity\n",
       "0                            1 Mile to You         0.0\n",
       "353                             Savageland         0.0\n",
       "367                              Sleepless         0.0\n",
       "366                                  Skins         0.0\n",
       "365  Site Unseen: An Emma Fielding Mystery         0.0"
      ]
     },
     "execution_count": 184,
     "metadata": {},
     "output_type": "execute_result"
    }
   ],
   "source": [
    "# Crear un DataFrame con juegos similares y sus similitudes\n",
    "similar_peliculas = pd.DataFrame({\n",
    "        'Peliculas': user_item_matrix.columns,\n",
    "        'Similarity': peliculas_similares\n",
    "    })\n",
    "\n",
    "    # Ordenar los juegos por similitud en orden descendente\n",
    "top_n_recommendations = similar_peliculas.sort_values(by='Similarity', ascending=False).head(5)\n",
    "\n",
    "top_n_recommendations"
   ]
  },
  {
   "cell_type": "code",
   "execution_count": 191,
   "metadata": {},
   "outputs": [],
   "source": [
    "def Recomendacion_juego(pelicula:str):\n",
    "    \n",
    "    from sklearn.metrics.pairwise import cosine_similarity\n",
    "\n",
    "    # Filtrar por películas lanzadas desde 2017\n",
    "    df_movies_filtered = df_movies[df_movies['release_year'] >= 2017]\n",
    "\n",
    "    # Crear una matriz de usuario-item\n",
    "    user_item_matrix = pd.pivot_table(df_movies_filtered, values='vote_average', index='movie_id', columns='title', fill_value=0)\n",
    "\n",
    "    # Calcular la similitud de coseno entre peliculas\n",
    "    peliculas_similares = cosine_similarity(user_item_matrix.T)\n",
    "\n",
    "    # Encontrar el índice del juego en la matriz\n",
    "    peliculas_index = user_item_matrix.columns.get_loc(pelicula)\n",
    "    \n",
    "\n",
    "    # Calcular la similitud de coseno entre el juego deseado y otros juegos\n",
    "    peliculas_similares = peliculas_similares[peliculas_index] \n",
    "\n",
    "    # Crear un DataFrame con juegos similares y sus similitudes\n",
    "    similar_peliculas = pd.DataFrame({\n",
    "        'Peliculas': user_item_matrix.columns,\n",
    "        'Similarity': peliculas_similares\n",
    "    })\n",
    "\n",
    "    # Ordenar los juegos por similitud en orden descendente\n",
    "    top_5_recomendadas = similar_peliculas.sort_values(by='Similarity', ascending=False).head(5)\n",
    "\n",
    "    \n",
    "    \n",
    "    return top_5_recomendadas"
   ]
  },
  {
   "cell_type": "code",
   "execution_count": 189,
   "metadata": {},
   "outputs": [
    {
     "data": {
      "text/plain": [
       "title\n",
       "Avatar 2                         1\n",
       "The Wedding Plan                 1\n",
       "Vir Das: Abroad Understanding    1\n",
       "Becoming Bond                    1\n",
       "War Machine                      1\n",
       "                                ..\n",
       "Power Rangers                    1\n",
       "Ghosts of Darkness               1\n",
       "The King                         1\n",
       "Buster's Mal Heart               1\n",
       "Queerama                         1\n",
       "Name: count, Length: 526, dtype: int64"
      ]
     },
     "execution_count": 189,
     "metadata": {},
     "output_type": "execute_result"
    }
   ],
   "source": [
    "df_recomendacion[\"title\"].value_counts()"
   ]
  },
  {
   "cell_type": "code",
   "execution_count": 91,
   "metadata": {},
   "outputs": [
    {
     "data": {
      "text/html": [
       "<div>\n",
       "<style scoped>\n",
       "    .dataframe tbody tr th:only-of-type {\n",
       "        vertical-align: middle;\n",
       "    }\n",
       "\n",
       "    .dataframe tbody tr th {\n",
       "        vertical-align: top;\n",
       "    }\n",
       "\n",
       "    .dataframe thead th {\n",
       "        text-align: right;\n",
       "    }\n",
       "</style>\n",
       "<table border=\"1\" class=\"dataframe\">\n",
       "  <thead>\n",
       "    <tr style=\"text-align: right;\">\n",
       "      <th></th>\n",
       "      <th>budget</th>\n",
       "      <th>movie_id</th>\n",
       "      <th>popularity</th>\n",
       "      <th>revenue</th>\n",
       "      <th>title</th>\n",
       "      <th>vote_average</th>\n",
       "      <th>vote_count</th>\n",
       "      <th>release_year</th>\n",
       "      <th>Genero</th>\n",
       "    </tr>\n",
       "  </thead>\n",
       "  <tbody>\n",
       "  </tbody>\n",
       "</table>\n",
       "</div>"
      ],
      "text/plain": [
       "Empty DataFrame\n",
       "Columns: [budget, movie_id, popularity, revenue, title, vote_average, vote_count, release_year, Genero]\n",
       "Index: []"
      ]
     },
     "execution_count": 91,
     "metadata": {},
     "output_type": "execute_result"
    }
   ],
   "source": [
    "df_recomendacion[df_recomendacion[\"title\"]==\"Toy Story\"]"
   ]
  }
 ],
 "metadata": {
  "kernelspec": {
   "display_name": "Python 3",
   "language": "python",
   "name": "python3"
  },
  "language_info": {
   "codemirror_mode": {
    "name": "ipython",
    "version": 3
   },
   "file_extension": ".py",
   "mimetype": "text/x-python",
   "name": "python",
   "nbconvert_exporter": "python",
   "pygments_lexer": "ipython3",
   "version": "3.12.5"
  }
 },
 "nbformat": 4,
 "nbformat_minor": 2
}
