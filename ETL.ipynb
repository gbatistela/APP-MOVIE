{
 "cells": [
  {
   "cell_type": "markdown",
   "metadata": {},
   "source": [
    "# Proyecto individual ML_Ops Movies"
   ]
  },
  {
   "cell_type": "code",
   "execution_count": 54,
   "metadata": {},
   "outputs": [],
   "source": [
    "import pandas as pd\n",
    "from pandas import json_normalize\n",
    "import numpy as np\n",
    "from datetime import datetime\n",
    "import ast  # Importar el módulo ast"
   ]
  },
  {
   "cell_type": "markdown",
   "metadata": {},
   "source": [
    "Hacemos una interseccion con los dos dataframe df_movies y df_credits"
   ]
  },
  {
   "cell_type": "code",
   "execution_count": 3,
   "metadata": {},
   "outputs": [],
   "source": [
    "df_credits = pd.read_csv(\"c:\\\\Users\\\\Giuliano\\\\Desktop\\\\credits.csv\")\n",
    "df_movies = pd.read_csv(\"c:\\\\Users\\\\Giuliano\\\\Desktop\\\\movies_dataset.csv\",low_memory=False)"
   ]
  },
  {
   "cell_type": "code",
   "execution_count": 4,
   "metadata": {},
   "outputs": [],
   "source": [
    "# Convertir la columna 'id' en ambos DataFrames a tipo string\n",
    "df_movies['id'] = df_movies['id'].astype(str)\n",
    "df_credits['id'] = df_credits['id'].astype(str)"
   ]
  },
  {
   "cell_type": "code",
   "execution_count": 5,
   "metadata": {},
   "outputs": [],
   "source": [
    "# Merge entre df_movies y df_credits usando la columna 'id' en df_movies y 'id' en df_credits.\n",
    "df = pd.merge(df_movies, df_credits, left_on='id', right_on='id', how='inner')"
   ]
  },
  {
   "cell_type": "markdown",
   "metadata": {},
   "source": [
    "ETL"
   ]
  },
  {
   "cell_type": "code",
   "execution_count": 6,
   "metadata": {},
   "outputs": [],
   "source": [
    "# Cambiar el nombre de la columna 'id' en df a 'movie_id'\n",
    "df.rename(columns={'id': 'movie_id'}, inplace=True)"
   ]
  },
  {
   "cell_type": "markdown",
   "metadata": {},
   "source": [
    "Desanidamos belongs_to_collection"
   ]
  },
  {
   "cell_type": "code",
   "execution_count": 7,
   "metadata": {},
   "outputs": [],
   "source": [
    "# Convertir las cadenas en diccionarios\n",
    "df['belongs_to_collection'] = df['belongs_to_collection'].apply(lambda x: ast.literal_eval(x) if pd.notnull(x) else None)\n"
   ]
  },
  {
   "cell_type": "code",
   "execution_count": 8,
   "metadata": {},
   "outputs": [],
   "source": [
    "df_desanidado = pd.json_normalize(df['belongs_to_collection'])"
   ]
  },
  {
   "cell_type": "code",
   "execution_count": 9,
   "metadata": {},
   "outputs": [],
   "source": [
    "# Unir el DataFrame desanidado con el DataFrame original\n",
    "df= pd.concat([df, df_desanidado], axis=1)"
   ]
  },
  {
   "cell_type": "code",
   "execution_count": 10,
   "metadata": {},
   "outputs": [],
   "source": [
    "# Cambiar el nombre de la columna 'id' en df_credits a 'movie_id'\n",
    "df.rename(columns={'id': 'franquicia_id'}, inplace=True)\n",
    "# Eliminar la columna ''\n",
    "df.drop(columns=['poster_path'], inplace=True)"
   ]
  },
  {
   "cell_type": "markdown",
   "metadata": {},
   "source": [
    "Desanidamos product_companies"
   ]
  },
  {
   "cell_type": "code",
   "execution_count": 11,
   "metadata": {},
   "outputs": [],
   "source": [
    "# Convertir las cadenas en listas de diccionarios, manejando NaN y None\n",
    "df['production_companies'] = df['production_companies'].apply(\n",
    "    lambda x: ast.literal_eval(x) if isinstance(x, str) else None\n",
    ")\n",
    "\n",
    "# Expandir las listas en filas separadas\n",
    "df_expanded = df.explode('production_companies')\n",
    "# Convertir los diccionarios en columnas separadas\n",
    "df_companies = pd.json_normalize(df_expanded['production_companies'])"
   ]
  },
  {
   "cell_type": "code",
   "execution_count": 12,
   "metadata": {},
   "outputs": [],
   "source": [
    "df = pd.concat([df,df_companies], axis=1)"
   ]
  },
  {
   "cell_type": "code",
   "execution_count": 13,
   "metadata": {},
   "outputs": [],
   "source": [
    "# Borramos las columnas bellong_to_collection y product_companies\n",
    "df = df.drop(columns=['belongs_to_collection', 'production_companies'])"
   ]
  },
  {
   "cell_type": "code",
   "execution_count": 14,
   "metadata": {},
   "outputs": [
    {
     "data": {
      "text/plain": [
       "Index(['adult', 'budget', 'genres', 'homepage', 'movie_id', 'imdb_id',\n",
       "       'original_language', 'original_title', 'overview', 'popularity',\n",
       "       'production_countries', 'release_date', 'revenue', 'runtime',\n",
       "       'spoken_languages', 'status', 'tagline', 'title', 'video',\n",
       "       'vote_average', 'vote_count', 'cast', 'crew', 'franquicia_id', 'name',\n",
       "       'backdrop_path', 'name', 'id'],\n",
       "      dtype='object')"
      ]
     },
     "execution_count": 14,
     "metadata": {},
     "output_type": "execute_result"
    }
   ],
   "source": [
    "df.columns"
   ]
  },
  {
   "cell_type": "code",
   "execution_count": 15,
   "metadata": {},
   "outputs": [],
   "source": [
    "# Reemplazar los valores nulos en las columnas 'revenue' y 'budget' por 0\n",
    "df['revenue'] = df['revenue'].fillna(0)\n",
    "df['budget'] = df_movies['budget'].fillna(0)"
   ]
  },
  {
   "cell_type": "code",
   "execution_count": 16,
   "metadata": {},
   "outputs": [],
   "source": [
    "# Eliminar las filas donde el valor de 'release_date' es nulo\n",
    "df = df.dropna(subset=['release_date'])"
   ]
  },
  {
   "cell_type": "code",
   "execution_count": 17,
   "metadata": {},
   "outputs": [
    {
     "data": {
      "text/plain": [
       "np.int64(0)"
      ]
     },
     "execution_count": 17,
     "metadata": {},
     "output_type": "execute_result"
    }
   ],
   "source": [
    "# Verificar cuántos valores nulos quedan en 'release_date'\n",
    "nulos_release_date = df['release_date'].isnull().sum()\n",
    "nulos_release_date"
   ]
  },
  {
   "cell_type": "code",
   "execution_count": 18,
   "metadata": {},
   "outputs": [],
   "source": [
    "# Asegurarse de que 'release_date' esté en formato de fecha AAAA-mm-dd\n",
    "df['release_date'] = pd.to_datetime(df['release_date'], format='%Y-%m-%d',errors=\"coerce\")"
   ]
  },
  {
   "cell_type": "code",
   "execution_count": 19,
   "metadata": {},
   "outputs": [],
   "source": [
    "# Eliminar las filas donde 'release_date' no pudo convertirse (valores nulos)\n",
    "df = df.dropna(subset=['release_date'])"
   ]
  },
  {
   "cell_type": "code",
   "execution_count": 20,
   "metadata": {},
   "outputs": [],
   "source": [
    "# Crear una nueva columna 'release_year' extrayendo el año de 'release_date'\n",
    "df['release_year'] = df['release_date'].dt.year"
   ]
  },
  {
   "cell_type": "code",
   "execution_count": 21,
   "metadata": {},
   "outputs": [],
   "source": [
    "# Asegurarse de que 'revenue' y 'budget' sean numéricos, reemplazar valores no convertibles por 0\n",
    "df['revenue'] = pd.to_numeric(df['revenue'], errors='coerce').fillna(0)\n",
    "df['budget'] = pd.to_numeric(df['budget'], errors='coerce').fillna(0)"
   ]
  },
  {
   "cell_type": "code",
   "execution_count": 40,
   "metadata": {},
   "outputs": [],
   "source": [
    "df[\"retorno_de_inversion\"] = df[\"revenue\"] / df[\"budget\"] "
   ]
  },
  {
   "cell_type": "code",
   "execution_count": 51,
   "metadata": {},
   "outputs": [],
   "source": [
    "df[\"retorno_de_inversion\"] = df[\"retorno_de_inversion\"].fillna(0)"
   ]
  },
  {
   "cell_type": "code",
   "execution_count": 52,
   "metadata": {},
   "outputs": [],
   "source": [
    "df[\"retorno_de_inversion\"] = df[\"retorno_de_inversion\"][\n",
    "        (df['retorno_de_inversion'] != np.inf) &  # Excluir infinito\n",
    "        (df['retorno_de_inversion'] != -np.inf) &  # Excluir -infinito\n",
    "        (df['retorno_de_inversion'].notna()) &  # Excluir NaN\n",
    "        (df['retorno_de_inversion'] >= 0)  # Asegurarse de que el valor sea positivo\n",
    "    ]"
   ]
  },
  {
   "cell_type": "code",
   "execution_count": 53,
   "metadata": {},
   "outputs": [],
   "source": [
    "# Si está correcto, elimina las columnas\n",
    "df = df.drop(columns=['video', 'imdb_id', 'adult', 'original_title', 'homepage'])"
   ]
  },
  {
   "cell_type": "code",
   "execution_count": 69,
   "metadata": {},
   "outputs": [
    {
     "data": {
      "text/plain": [
       "Index(['budget', 'genres', 'movie_id', 'original_language', 'overview',\n",
       "       'popularity', 'production_countries', 'release_date', 'revenue',\n",
       "       'runtime', 'spoken_languages', 'status', 'tagline', 'title',\n",
       "       'vote_average', 'vote_count', 'cast', 'crew', 'franquicia_id', 'name',\n",
       "       'backdrop_path', 'name', 'id', 'release_year', 'retorno_de_inversion'],\n",
       "      dtype='object')"
      ]
     },
     "execution_count": 69,
     "metadata": {},
     "output_type": "execute_result"
    }
   ],
   "source": [
    "df.columns"
   ]
  },
  {
   "cell_type": "code",
   "execution_count": 70,
   "metadata": {},
   "outputs": [],
   "source": [
    "df.to_csv(\"df.csv\")"
   ]
  },
  {
   "cell_type": "markdown",
   "metadata": {},
   "source": [
    "Desanidamos cast y crew"
   ]
  },
  {
   "cell_type": "code",
   "execution_count": 6,
   "metadata": {},
   "outputs": [],
   "source": [
    "df_cast = pd.DataFrame(df['cast'])"
   ]
  },
  {
   "cell_type": "code",
   "execution_count": 9,
   "metadata": {},
   "outputs": [],
   "source": [
    "# Convertir las cadenas en listas de diccionarios, manejando NaN y None\n",
    "df_cast['cast'] = df_cast['cast'].apply(\n",
    "    lambda x: ast.literal_eval(x) if isinstance(x, str) else None\n",
    ")"
   ]
  },
  {
   "cell_type": "code",
   "execution_count": 10,
   "metadata": {},
   "outputs": [],
   "source": [
    "# Expandir las listas en filas separadas\n",
    "df_cast = df_cast.explode('cast')"
   ]
  },
  {
   "cell_type": "code",
   "execution_count": 11,
   "metadata": {},
   "outputs": [],
   "source": [
    "# Convertir los diccionarios en columnas separadas\n",
    "df_cast = pd.json_normalize(df_cast['cast'])"
   ]
  },
  {
   "cell_type": "code",
   "execution_count": 12,
   "metadata": {},
   "outputs": [],
   "source": [
    "df_cast.rename(columns={'id': 'actor_id'}, inplace=True)"
   ]
  },
  {
   "cell_type": "code",
   "execution_count": 13,
   "metadata": {},
   "outputs": [
    {
     "data": {
      "text/plain": [
       "Index(['Unnamed: 0', 'budget', 'genres', 'movie_id', 'original_language',\n",
       "       'overview', 'popularity', 'production_countries', 'release_date',\n",
       "       'revenue', 'runtime', 'spoken_languages', 'status', 'tagline', 'title',\n",
       "       'vote_average', 'vote_count', 'cast', 'crew', 'franquicia_id', 'name',\n",
       "       'backdrop_path', 'name.1', 'id', 'release_year',\n",
       "       'retorno_de_inversion'],\n",
       "      dtype='object')"
      ]
     },
     "execution_count": 13,
     "metadata": {},
     "output_type": "execute_result"
    }
   ],
   "source": [
    "df.columns"
   ]
  },
  {
   "cell_type": "code",
   "execution_count": 14,
   "metadata": {},
   "outputs": [],
   "source": [
    "df_crew = pd.DataFrame(df['crew'])"
   ]
  },
  {
   "cell_type": "code",
   "execution_count": 15,
   "metadata": {},
   "outputs": [],
   "source": [
    "# Convertir las cadenas en listas de diccionarios, manejando NaN y None\n",
    "df_crew['crew'] = df_crew['crew'].apply(\n",
    "    lambda x: ast.literal_eval(x) if isinstance(x, str) else None\n",
    ")\n",
    "\n",
    "# Expandir las listas en filas separadas\n",
    "df_crew = df_crew.explode('crew')\n",
    "\n",
    "# Convertir los diccionarios en columnas separadas\n",
    "df_crew = pd.json_normalize(df_crew['crew'])\n"
   ]
  },
  {
   "cell_type": "code",
   "execution_count": 18,
   "metadata": {},
   "outputs": [],
   "source": [
    "df_crew.to_csv(\"df_crew.csv\")\n",
    "df_cast.to_csv(\"df_cast.csv\")"
   ]
  },
  {
   "cell_type": "code",
   "execution_count": 19,
   "metadata": {},
   "outputs": [],
   "source": [
    "df = pd.concat([df,df_crew],axis=1)"
   ]
  },
  {
   "cell_type": "code",
   "execution_count": 20,
   "metadata": {},
   "outputs": [],
   "source": [
    "df = pd.concat([df,df_cast],axis=1)"
   ]
  },
  {
   "cell_type": "code",
   "execution_count": 21,
   "metadata": {},
   "outputs": [
    {
     "data": {
      "text/plain": [
       "Index(['Unnamed: 0', 'budget', 'genres', 'movie_id', 'original_language',\n",
       "       'overview', 'popularity', 'production_countries', 'release_date',\n",
       "       'revenue', 'runtime', 'spoken_languages', 'status', 'tagline', 'title',\n",
       "       'vote_average', 'vote_count', 'cast', 'crew', 'franquicia_id', 'name',\n",
       "       'backdrop_path', 'name.1', 'id', 'release_year', 'retorno_de_inversion',\n",
       "       'credit_id', 'department', 'gender', 'id', 'job', 'name',\n",
       "       'profile_path', 'cast_id', 'character', 'credit_id', 'gender',\n",
       "       'actor_id', 'name', 'order', 'profile_path'],\n",
       "      dtype='object')"
      ]
     },
     "execution_count": 21,
     "metadata": {},
     "output_type": "execute_result"
    }
   ],
   "source": [
    "df.columns"
   ]
  },
  {
   "cell_type": "code",
   "execution_count": 23,
   "metadata": {},
   "outputs": [],
   "source": [
    "df = df.drop(columns=['id', 'job', 'department','gender','backdrop_path','cast', 'crew','runtime', 'spoken_languages', 'status', 'tagline', 'production_countries','overview'])"
   ]
  },
  {
   "cell_type": "code",
   "execution_count": 25,
   "metadata": {},
   "outputs": [
    {
     "data": {
      "text/plain": [
       "Index(['Unnamed: 0', 'budget', 'genres', 'movie_id', 'original_language',\n",
       "       'popularity', 'release_date', 'revenue', 'title', 'vote_average',\n",
       "       'vote_count', 'franquicia_id', 'name', 'name.1', 'release_year',\n",
       "       'retorno_de_inversion', 'credit_id', 'name', 'profile_path', 'cast_id',\n",
       "       'character', 'credit_id', 'actor_id', 'name', 'order', 'profile_path'],\n",
       "      dtype='object')"
      ]
     },
     "execution_count": 25,
     "metadata": {},
     "output_type": "execute_result"
    }
   ],
   "source": [
    "df.columns"
   ]
  },
  {
   "cell_type": "code",
   "execution_count": 26,
   "metadata": {},
   "outputs": [],
   "source": [
    "df.to_csv(\"df_movies.csv\")"
   ]
  }
 ],
 "metadata": {
  "kernelspec": {
   "display_name": "Python 3",
   "language": "python",
   "name": "python3"
  },
  "language_info": {
   "codemirror_mode": {
    "name": "ipython",
    "version": 3
   },
   "file_extension": ".py",
   "mimetype": "text/x-python",
   "name": "python",
   "nbconvert_exporter": "python",
   "pygments_lexer": "ipython3",
   "version": "3.12.5"
  }
 },
 "nbformat": 4,
 "nbformat_minor": 2
}
