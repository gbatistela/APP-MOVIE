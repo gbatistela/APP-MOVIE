{
 "cells": [
  {
   "cell_type": "markdown",
   "metadata": {},
   "source": [
    "# Proyecto individual ML_Ops Movies"
   ]
  },
  {
   "cell_type": "code",
   "execution_count": null,
   "metadata": {},
   "outputs": [],
   "source": []
  },
  {
   "cell_type": "code",
   "execution_count": 140,
   "metadata": {},
   "outputs": [],
   "source": [
    "import pandas as pd\n",
    "from pandas import json_normalize\n",
    "import numpy as np\n",
    "from datetime import datetime\n",
    "import ast  # Importar el módulo ast"
   ]
  },
  {
   "cell_type": "markdown",
   "metadata": {},
   "source": [
    "Hacemos una interseccion con los dos dataframe df_movies y df_credits"
   ]
  },
  {
   "cell_type": "code",
   "execution_count": 141,
   "metadata": {},
   "outputs": [],
   "source": [
    "df_credits = pd.read_csv(\"c:\\\\Users\\\\Giuliano\\\\Desktop\\\\credits.csv\")\n",
    "df_movies = pd.read_csv(\"c:\\\\Users\\\\Giuliano\\\\Desktop\\\\movies_dataset.csv\",low_memory=False)"
   ]
  },
  {
   "cell_type": "code",
   "execution_count": 142,
   "metadata": {},
   "outputs": [],
   "source": [
    "# Convertir la columna 'id' en ambos DataFrames a tipo string\n",
    "df_movies['id'] = df_movies['id'].astype(str)\n",
    "df_credits['id'] = df_credits['id'].astype(str)"
   ]
  },
  {
   "cell_type": "code",
   "execution_count": 143,
   "metadata": {},
   "outputs": [],
   "source": [
    "# Merge entre df_movies y df_credits usando la columna 'id' en df_movies y 'id' en df_credits.\n",
    "df = pd.merge(df_movies, df_credits, left_on='id', right_on='id', how='inner')"
   ]
  },
  {
   "cell_type": "markdown",
   "metadata": {},
   "source": [
    "ETL"
   ]
  },
  {
   "cell_type": "code",
   "execution_count": 144,
   "metadata": {},
   "outputs": [],
   "source": [
    "# Cambiar el nombre de la columna 'id' en df a 'movie_id'\n",
    "df.rename(columns={'id': 'movie_id'}, inplace=True)"
   ]
  },
  {
   "cell_type": "markdown",
   "metadata": {},
   "source": [
    "Desanidamos genres"
   ]
  },
  {
   "cell_type": "code",
   "execution_count": 145,
   "metadata": {},
   "outputs": [],
   "source": [
    "df_genres = pd.DataFrame(df['genres'])\n",
    "\n",
    "# Convertir las cadenas en listas de diccionarios, manejando NaN y None\n",
    "df_genres[\"genres\"] = df_genres['genres'].apply(\n",
    "    lambda x: ast.literal_eval(x) if isinstance(x, str) else None\n",
    ")\n",
    "\n",
    "# Expandir las listas en filas separadas\n",
    "df_genres = df_genres.explode('genres')\n",
    "# Convertir los diccionarios en columnas separadas\n",
    "df_genres = pd.json_normalize(df_genres['genres'])\n",
    "\n",
    "df_genres.rename(columns={'id': 'genres_id',\"name\":\"Genero\"}, inplace=True)\n"
   ]
  },
  {
   "cell_type": "code",
   "execution_count": 146,
   "metadata": {},
   "outputs": [],
   "source": [
    "# Unir el DataFrame desanidado con el DataFrame original\n",
    "df= pd.concat([df, df_genres], axis=1)"
   ]
  },
  {
   "cell_type": "markdown",
   "metadata": {},
   "source": [
    "Desanidamos belongs_to_collection"
   ]
  },
  {
   "cell_type": "code",
   "execution_count": 147,
   "metadata": {},
   "outputs": [],
   "source": [
    "# Convertir las cadenas en diccionarios\n",
    "df['belongs_to_collection'] = df['belongs_to_collection'].apply(lambda x: ast.literal_eval(x) if pd.notnull(x) else None)\n"
   ]
  },
  {
   "cell_type": "code",
   "execution_count": 148,
   "metadata": {},
   "outputs": [],
   "source": [
    "df_desanidado = pd.json_normalize(df['belongs_to_collection'])"
   ]
  },
  {
   "cell_type": "code",
   "execution_count": 149,
   "metadata": {},
   "outputs": [],
   "source": [
    "# Unir el DataFrame desanidado con el DataFrame original\n",
    "df= pd.concat([df, df_desanidado], axis=1)"
   ]
  },
  {
   "cell_type": "code",
   "execution_count": 150,
   "metadata": {},
   "outputs": [],
   "source": [
    "# Cambiar el nombre de la columna 'id' en df_credits a 'movie_id'\n",
    "df.rename(columns={'id': 'franquicia_id'}, inplace=True)\n",
    "# Eliminar la columna ''\n",
    "df.drop(columns=['poster_path'], inplace=True)"
   ]
  },
  {
   "cell_type": "markdown",
   "metadata": {},
   "source": [
    "Desanidamos product_companies"
   ]
  },
  {
   "cell_type": "code",
   "execution_count": 151,
   "metadata": {},
   "outputs": [],
   "source": [
    "# Convertir las cadenas en listas de diccionarios, manejando NaN y None\n",
    "df['production_companies'] = df['production_companies'].apply(\n",
    "    lambda x: ast.literal_eval(x) if isinstance(x, str) else None\n",
    ")\n",
    "\n",
    "# Expandir las listas en filas separadas\n",
    "df_expanded = df.explode('production_companies')\n",
    "# Convertir los diccionarios en columnas separadas\n",
    "df_companies = pd.json_normalize(df_expanded['production_companies'])"
   ]
  },
  {
   "cell_type": "code",
   "execution_count": 152,
   "metadata": {},
   "outputs": [],
   "source": [
    "df = pd.concat([df,df_companies], axis=1)"
   ]
  },
  {
   "cell_type": "code",
   "execution_count": 153,
   "metadata": {},
   "outputs": [],
   "source": [
    "# Borramos las columnas bellong_to_collection y product_companies\n",
    "df = df.drop(columns=['belongs_to_collection', 'production_companies'])"
   ]
  },
  {
   "cell_type": "code",
   "execution_count": 154,
   "metadata": {},
   "outputs": [],
   "source": [
    "# Reemplazar los valores nulos en las columnas 'revenue' y 'budget' por 0\n",
    "df['revenue'] = df['revenue'].fillna(0)\n",
    "df['budget'] = df_movies['budget'].fillna(0)"
   ]
  },
  {
   "cell_type": "code",
   "execution_count": 155,
   "metadata": {},
   "outputs": [],
   "source": [
    "# Eliminar las filas donde el valor de 'release_date' es nulo\n",
    "df = df.dropna(subset=['release_date'])"
   ]
  },
  {
   "cell_type": "code",
   "execution_count": 156,
   "metadata": {},
   "outputs": [
    {
     "data": {
      "text/plain": [
       "np.int64(0)"
      ]
     },
     "execution_count": 156,
     "metadata": {},
     "output_type": "execute_result"
    }
   ],
   "source": [
    "# Verificar cuántos valores nulos quedan en 'release_date'\n",
    "nulos_release_date = df['release_date'].isnull().sum()\n",
    "nulos_release_date"
   ]
  },
  {
   "cell_type": "code",
   "execution_count": 157,
   "metadata": {},
   "outputs": [],
   "source": [
    "# Asegurarse de que 'release_date' esté en formato de fecha AAAA-mm-dd\n",
    "df['release_date'] = pd.to_datetime(df['release_date'], format='%Y-%m-%d',errors=\"coerce\")"
   ]
  },
  {
   "cell_type": "code",
   "execution_count": 158,
   "metadata": {},
   "outputs": [],
   "source": [
    "# Eliminar las filas donde 'release_date' no pudo convertirse (valores nulos)\n",
    "df = df.dropna(subset=['release_date'])"
   ]
  },
  {
   "cell_type": "code",
   "execution_count": 159,
   "metadata": {},
   "outputs": [],
   "source": [
    "# Crear una nueva columna 'release_year' extrayendo el año de 'release_date'\n",
    "df['release_year'] = df['release_date'].dt.year"
   ]
  },
  {
   "cell_type": "code",
   "execution_count": 160,
   "metadata": {},
   "outputs": [],
   "source": [
    "# Asegurarse de que 'revenue' y 'budget' sean numéricos, reemplazar valores no convertibles por 0\n",
    "df['revenue'] = pd.to_numeric(df['revenue'], errors='coerce').fillna(0)\n",
    "df['budget'] = pd.to_numeric(df['budget'], errors='coerce').fillna(0)"
   ]
  },
  {
   "cell_type": "code",
   "execution_count": 161,
   "metadata": {},
   "outputs": [],
   "source": [
    "df[\"retorno_de_inversion\"] = df[\"revenue\"] / df[\"budget\"] "
   ]
  },
  {
   "cell_type": "code",
   "execution_count": 162,
   "metadata": {},
   "outputs": [],
   "source": [
    "df[\"retorno_de_inversion\"] = df[\"retorno_de_inversion\"].fillna(0)"
   ]
  },
  {
   "cell_type": "code",
   "execution_count": 163,
   "metadata": {},
   "outputs": [],
   "source": [
    "df[\"retorno_de_inversion\"] = df[\"retorno_de_inversion\"][\n",
    "        (df['retorno_de_inversion'] != np.inf) &  # Excluir infinito\n",
    "        (df['retorno_de_inversion'] != -np.inf) &  # Excluir -infinito\n",
    "        (df['retorno_de_inversion'].notna()) &  # Excluir NaN\n",
    "        (df['retorno_de_inversion'] >= 0)  # Asegurarse de que el valor sea positivo\n",
    "    ]"
   ]
  },
  {
   "cell_type": "code",
   "execution_count": 164,
   "metadata": {},
   "outputs": [],
   "source": [
    "# Si está correcto, elimina las columnas\n",
    "df = df.drop(columns=['video', 'imdb_id', 'adult', 'original_title', 'homepage',\n",
    "        'original_language', 'original_title', 'overview',\n",
    "       'production_countries', 'runtime',\n",
    "       'spoken_languages', 'status', 'tagline', 'video', 'genres_id',\n",
    "       'franquicia_id', 'backdrop_path'])"
   ]
  },
  {
   "cell_type": "markdown",
   "metadata": {},
   "source": [
    "Desanidamos cast y crew"
   ]
  },
  {
   "cell_type": "code",
   "execution_count": 165,
   "metadata": {},
   "outputs": [],
   "source": [
    "df_cast = pd.DataFrame(df['cast'])"
   ]
  },
  {
   "cell_type": "code",
   "execution_count": 166,
   "metadata": {},
   "outputs": [],
   "source": [
    "# Convertir las cadenas en listas de diccionarios, manejando NaN y None\n",
    "df_cast['cast'] = df_cast['cast'].apply(\n",
    "    lambda x: ast.literal_eval(x) if isinstance(x, str) else None\n",
    ")"
   ]
  },
  {
   "cell_type": "code",
   "execution_count": 167,
   "metadata": {},
   "outputs": [],
   "source": [
    "# Expandir las listas en filas separadas\n",
    "df_cast = df_cast.explode('cast')"
   ]
  },
  {
   "cell_type": "code",
   "execution_count": 168,
   "metadata": {},
   "outputs": [],
   "source": [
    "# Convertir los diccionarios en columnas separadas\n",
    "df_cast = pd.json_normalize(df_cast['cast'])"
   ]
  },
  {
   "cell_type": "code",
   "execution_count": 169,
   "metadata": {},
   "outputs": [],
   "source": [
    "df_cast.rename(columns={'id': 'actor_id'}, inplace=True)"
   ]
  },
  {
   "cell_type": "code",
   "execution_count": 170,
   "metadata": {},
   "outputs": [
    {
     "data": {
      "text/plain": [
       "Index(['budget', 'genres', 'movie_id', 'popularity', 'release_date', 'revenue',\n",
       "       'title', 'vote_average', 'vote_count', 'cast', 'crew', 'Genero', 'name',\n",
       "       'name', 'id', 'release_year', 'retorno_de_inversion'],\n",
       "      dtype='object')"
      ]
     },
     "execution_count": 170,
     "metadata": {},
     "output_type": "execute_result"
    }
   ],
   "source": [
    "df.columns"
   ]
  },
  {
   "cell_type": "code",
   "execution_count": 171,
   "metadata": {},
   "outputs": [],
   "source": [
    "df_crew = pd.DataFrame(df['crew'])"
   ]
  },
  {
   "cell_type": "code",
   "execution_count": 172,
   "metadata": {},
   "outputs": [],
   "source": [
    "# Convertir las cadenas en listas de diccionarios, manejando NaN y None\n",
    "df_crew['crew'] = df_crew['crew'].apply(\n",
    "    lambda x: ast.literal_eval(x) if isinstance(x, str) else None\n",
    ")\n",
    "\n",
    "# Expandir las listas en filas separadas\n",
    "df_crew = df_crew.explode('crew')\n",
    "\n",
    "# Convertir los diccionarios en columnas separadas\n",
    "df_crew = pd.json_normalize(df_crew['crew'])\n"
   ]
  },
  {
   "cell_type": "code",
   "execution_count": 173,
   "metadata": {},
   "outputs": [],
   "source": [
    "df = pd.concat([df,df_crew],axis=1)"
   ]
  },
  {
   "cell_type": "code",
   "execution_count": 174,
   "metadata": {},
   "outputs": [],
   "source": [
    "df = pd.concat([df,df_cast],axis=1)"
   ]
  },
  {
   "cell_type": "code",
   "execution_count": 175,
   "metadata": {},
   "outputs": [],
   "source": [
    "# Definir las columnas que deseas eliminar\n",
    "columns_to_drop = [\"genres\",'cast', 'crew', 'id', 'credit_id', 'department','gender', 'id', 'job', 'profile_path', 'cast_id', 'character', 'credit_id', 'gender', 'actor_id', 'order', 'profile_path']\n",
    "\n",
    "# Verificar cuáles de esas columnas realmente existen en el dataframe\n",
    "columns_present = [col for col in columns_to_drop if col in df.columns]\n",
    "\n",
    "\n",
    "# Eliminar solo las columnas que existen\n",
    "df = df.drop(columns=columns_present)"
   ]
  },
  {
   "cell_type": "code",
   "execution_count": 181,
   "metadata": {},
   "outputs": [],
   "source": [
    " #Renombramos columnas\n",
    " df.columns = ['budget', 'movie_id', 'popularity', 'release_date', 'revenue', 'title',\n",
    "       'vote_average', 'vote_count', 'Genero', 'name', 'company', 'release_year',\n",
    "       'retorno_de_inversion', 'director', 'actor']"
   ]
  },
  {
   "cell_type": "code",
   "execution_count": 183,
   "metadata": {},
   "outputs": [],
   "source": [
    "df.to_csv(\"df_movies.csv\")"
   ]
  }
 ],
 "metadata": {
  "kernelspec": {
   "display_name": "Python 3",
   "language": "python",
   "name": "python3"
  },
  "language_info": {
   "codemirror_mode": {
    "name": "ipython",
    "version": 3
   },
   "file_extension": ".py",
   "mimetype": "text/x-python",
   "name": "python",
   "nbconvert_exporter": "python",
   "pygments_lexer": "ipython3",
   "version": "3.12.5"
  }
 },
 "nbformat": 4,
 "nbformat_minor": 2
}
